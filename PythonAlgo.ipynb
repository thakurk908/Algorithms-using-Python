{
 "cells": [
  {
   "cell_type": "code",
   "execution_count": null,
   "metadata": {},
   "outputs": [],
   "source": [
    "# Binary Search\n",
    "\n",
    "def binarySearch(num,arr):\n",
    "    beg = 0\n",
    "    end = len(arr)-1\n",
    "    while(beg<=end):\n",
    "        mid = (beg+end)//2\n",
    "        if(arr[mid]==num):\n",
    "            return mid \n",
    "        elif(arr[mid]>num):\n",
    "            end = mid - 1\n",
    "        else:\n",
    "            beg = mid + 1\n",
    "    return -1 "
   ]
  },
  {
   "cell_type": "code",
   "execution_count": null,
   "metadata": {},
   "outputs": [],
   "source": [
    "#Binary Search Using Recursion\n",
    "\n",
    "def binarySearch(num,arr,beg,end):\n",
    "    if(beg>end):\n",
    "        print(\"NOT FOUND\")\n",
    "        return\n",
    "    mid = (beg + end)//2\n",
    "    if(arr[mid]==num):\n",
    "        print(\"FOUND AT \",mid)\n",
    "    elif(arr[mid]>num):\n",
    "        binarySearch(num,arr,beg,mid-1)\n",
    "    else:\n",
    "        binarySearch(num,arr,mid+1,end)    "
   ]
  },
  {
   "cell_type": "code",
   "execution_count": null,
   "metadata": {},
   "outputs": [],
   "source": [
    "# Bubble Sort\n",
    "\n",
    "def bubbleSort(arr):\n",
    "    for i in range(0,len(arr)-1):\n",
    "        for j in range(0,len(arr)-i-1):\n",
    "            if(arr[j+1]<arr[j]):\n",
    "                (arr[j],arr[j+1])=(arr[j+1],arr[j])\n",
    "\n",
    "arr=[5,1,4,2,8,9]\n",
    "bubbleSort(arr)\n",
    "print(arr)"
   ]
  },
  {
   "cell_type": "code",
   "execution_count": null,
   "metadata": {},
   "outputs": [],
   "source": [
    "#insetion sort\n",
    "\n",
    "def insertionSort(arr):\n",
    "    for i in range(1,len(arr)):\n",
    "        pos = i\n",
    "        while(pos>0 and arr[pos-1]>arr[pos]):\n",
    "            (arr[pos-1],arr[pos])=(arr[pos],arr[pos-1])\n",
    "            pos=pos-1\n",
    "arr=[5,1,4,2,8,9]\n",
    "insertionSort(arr)\n",
    "print(arr)4"
   ]
  },
  {
   "cell_type": "code",
   "execution_count": null,
   "metadata": {},
   "outputs": [],
   "source": [
    "# Selection Sort\n",
    "\n",
    "def selectionSort(arr):\n",
    "    for i in range(len(arr)):\n",
    "        minpos = i\n",
    "        for j in range(i,len(arr)):\n",
    "            if(arr[j]<arr[minpos]):\n",
    "                minpos=j\n",
    "        (arr[i],arr[minpos])=(arr[minpos],arr[i])\n",
    "\n",
    "arr=[5,1,4,2,8,9]\n",
    "selectionSort(arr)\n",
    "print(arr)"
   ]
  },
  {
   "cell_type": "code",
   "execution_count": null,
   "metadata": {},
   "outputs": [],
   "source": [
    "#Quick Sort Choosing Pivot as the Last Element\n",
    "\n",
    "def partition(arr,low,high):\n",
    "    i = low - 1\n",
    "    pivot = arr[high]\n",
    "    for j in range(low,high):\n",
    "        if(arr[j]<=pivot):\n",
    "            i=i+1\n",
    "            (arr[i],arr[j])=(arr[j],arr[i])\n",
    "    (arr[i+1],arr[high])=(arr[high],arr[i+1])\n",
    "    return i+1\n",
    "def quickSort(arr,low,high):\n",
    "    if(low<high):\n",
    "        part = partition(arr,low,high)\n",
    "        quickSort(arr,low,part-1)\n",
    "        quickSort(arr,part+1,high)\n",
    "arr=[2,1,3,4,4,0,9]\n",
    "quickSort(arr,0,len(arr)-1)\n",
    "print(arr)\n",
    "        "
   ]
  },
  {
   "cell_type": "code",
   "execution_count": null,
   "metadata": {},
   "outputs": [],
   "source": [
    "# QuickSort \n",
    "\n",
    "def quickSort(arr,low,high):\n",
    "    if(low<high):\n",
    "        i=low\n",
    "        j=low+1\n",
    "        while(j<=high):\n",
    "            if(arr[j]<=arr[low]):\n",
    "                i=i+1\n",
    "                (arr[j],arr[i])=(arr[i],arr[j])\n",
    "            j=j+1\n",
    "        (arr[i],arr[low])=(arr[low],arr[i])\n",
    "        part = i\n",
    "        quickSort(arr,low,part-1)\n",
    "        quickSort(arr,part+1,high)\n",
    "arr=[2,1,3,4,4,0,9,-2,-1]\n",
    "quickSort(arr,0,len(arr)-1)\n",
    "print(arr)"
   ]
  },
  {
   "cell_type": "code",
   "execution_count": null,
   "metadata": {},
   "outputs": [],
   "source": [
    "#Quick Sort Choosing Pivot as the Last Element\n",
    "\n",
    "def partition(arr,low,high):\n",
    "    i=low\n",
    "    j=low+1\n",
    "    while(j<=high):\n",
    "        if(arr[j]<=arr[low]):\n",
    "            i=i+1\n",
    "            (arr[j],arr[i])=(arr[i],arr[j])\n",
    "        j=j+1\n",
    "    (arr[i],arr[low])=(arr[low],arr[i])\n",
    "    return i   \n",
    "def quickSort(arr,low,high):\n",
    "    if(low<high):\n",
    "        part = partition(arr,low,high)\n",
    "        quickSort(arr,low,part-1)\n",
    "        quickSort(arr,part+1,high)\n",
    "arr=[2,1,3,4,4,0,9]\n",
    "quickSort(arr,0,len(arr)-1)\n",
    "print(arr)"
   ]
  },
  {
   "cell_type": "code",
   "execution_count": null,
   "metadata": {},
   "outputs": [],
   "source": [
    "#Merge Sort\n",
    "\n",
    "def merge(arr,beg,mid,end):\n",
    "    i=beg\n",
    "    j=mid+1\n",
    "    temp = []\n",
    "    while(i<=mid and j<=end):\n",
    "        if(arr[i]>=arr[j]):\n",
    "            temp.append(arr[j])\n",
    "            j=j+1\n",
    "        if(arr[j]>arr[i]):\n",
    "            temp.append(arr[i])\n",
    "            i=i+1\n",
    "    if(i>mid):\n",
    "        while(j<=end):\n",
    "            temp.append(arr[j])\n",
    "            j=j+1\n",
    "    if(j>end):\n",
    "        while(i<=mid):\n",
    "            temp.append(arr[i])\n",
    "            i=i+1\n",
    "    k=0\n",
    "    for i in range(beg,end+1):\n",
    "        arr[i] = temp[k]\n",
    "        k=k+1\n",
    "def mergesort(arr,beg,end): \n",
    "    if(beg<end):\n",
    "        mid = (beg+end)//2\n",
    "        mergesort(arr,beg,mid)\n",
    "        mergesort(arr,mid+1,end)\n",
    "        merge(arr,beg,mid,end)\n",
    "        \n",
    "arr=[2,1,3,4,4,0,9]\n",
    "mergesort(arr,0,len(arr)-1)\n",
    "print(arr)"
   ]
  },
  {
   "cell_type": "code",
   "execution_count": null,
   "metadata": {},
   "outputs": [],
   "source": [
    "# BFS\n",
    "\n",
    "def bfs(arr,start):\n",
    "    visited = []\n",
    "    parent=[]\n",
    "    q=[]\n",
    "    for i in range(len(arr)):\n",
    "        visited.append(start)\n",
    "        visited[start]=1 \n",
    "        parent.append(-1)\n",
    "    q.append(start)\n",
    "    while(len(q)!=0):\n",
    "        j = q.pop(0)\n",
    "        print(j,\" -->\")\n",
    "        for k in range(len(arr[j])):\n",
    "            if(visited[arr[j][k]]==0):\n",
    "                visited[arr[j][k]]=1\n",
    "                parent[arr[j][k]]=j\n",
    "                q.append(arr[j][k])\n",
    "                \n",
    "        "
   ]
  },
  {
   "cell_type": "code",
   "execution_count": null,
   "metadata": {},
   "outputs": [],
   "source": [
    "# DFS\n",
    "\n",
    "n=int(input(\"Enter Number of Nodes :\"))\n",
    "arr=[]\n",
    "for i in range(n):\n",
    "    l=[int(x) for x in input().split()]\n",
    "    arr.append(l)\n",
    "visited = [0]*n\n",
    "parent = [-1]*n\n",
    "def dfs(start):\n",
    "    visited[start] = 1\n",
    "    print(start)\n",
    "    for i in range(len(arr[start])):\n",
    "        if(visited[arr[start][i]]==0):\n",
    "            parent[arr[start][i]] = start\n",
    "            dfs(arr[start][i])\n",
    "dfs(0)\n"
   ]
  },
  {
   "cell_type": "code",
   "execution_count": null,
   "metadata": {},
   "outputs": [],
   "source": [
    "def tower_of_henoi(n,start,end,via):\n",
    "    if(n==1):\n",
    "        print(\"Move Disk \",n,\" From \",start,\" To \",end)\n",
    "    else:\n",
    "        tower_of_henoi(n-1,start,via,end)\n",
    "        print(\"Move Disk \",n,\" From \",start,\" To \",end)\n",
    "        tower_of_henoi(n-1,via,end,start)\n",
    "tower_of_henoi(20,\"A\",\"C\",\"B\")"
   ]
  },
  {
   "cell_type": "code",
   "execution_count": null,
   "metadata": {},
   "outputs": [],
   "source": [
    "def traverse_array_start_to_end(arr,beg,end):\n",
    "    if(end<beg):\n",
    "        return 0\n",
    "    else:\n",
    "        create(arr,beg,end-1)\n",
    "        print(arr[end])"
   ]
  },
  {
   "cell_type": "code",
   "execution_count": null,
   "metadata": {},
   "outputs": [],
   "source": [
    "def traverse_array_end_to_start(arr,beg,end):\n",
    "    if(end<beg):\n",
    "        return 0\n",
    "    else:\n",
    "        print(arr[end])\n",
    "        create(arr,beg,end-1)"
   ]
  },
  {
   "cell_type": "code",
   "execution_count": null,
   "metadata": {},
   "outputs": [],
   "source": [
    "def check_even_odd_in_loop(arr,beg,end):\n",
    "    if(end<beg):\n",
    "        return 0\n",
    "    else:\n",
    "        create(arr,beg,end-1)\n",
    "        if(arr[end]%2==0):\n",
    "            print(\"Index \",end,\" is even \",arr[end])\n",
    "        else:\n",
    "            print(\"Index \",end,\" is odd \",arr[end])"
   ]
  },
  {
   "cell_type": "code",
   "execution_count": null,
   "metadata": {},
   "outputs": [],
   "source": [
    "arr=[1,2,2,3,8,7]\n",
    "create(arr,0,5)"
   ]
  },
  {
   "cell_type": "code",
   "execution_count": 2,
   "metadata": {},
   "outputs": [],
   "source": [
    "def array_sum(arr,beg,end):\n",
    "    if(end<beg):\n",
    "        return 0\n",
    "    else:\n",
    "        return array_sum(arr,beg,end-1) + arr[end]"
   ]
  },
  {
   "cell_type": "code",
   "execution_count": 3,
   "metadata": {},
   "outputs": [],
   "source": [
    "def sum_sub_array(arr,beg,end,ans):\n",
    "    if(end==beg):\n",
    "        ans.append(arr[beg])\n",
    "        return\n",
    "    else:\n",
    "        sum_sub_array(arr,beg,end-1,ans)\n",
    "        ans.append(array_sum(arr,beg,end))\n",
    "        "
   ]
  },
  {
   "cell_type": "code",
   "execution_count": 4,
   "metadata": {},
   "outputs": [],
   "source": [
    "arr=[1,2,3,4,5,6,7,8,9,10]\n",
    "l=[]\n",
    "sum_sub_array(arr,0,9,l)"
   ]
  },
  {
   "cell_type": "code",
   "execution_count": 5,
   "metadata": {},
   "outputs": [
    {
     "name": "stdout",
     "output_type": "stream",
     "text": [
      "[1, 3, 6, 10, 15, 21, 28, 36, 45, 55]\n"
     ]
    }
   ],
   "source": [
    "print(l)"
   ]
  },
  {
   "cell_type": "code",
   "execution_count": null,
   "metadata": {},
   "outputs": [],
   "source": []
  },
  {
   "cell_type": "code",
   "execution_count": null,
   "metadata": {},
   "outputs": [],
   "source": []
  },
  {
   "cell_type": "code",
   "execution_count": null,
   "metadata": {},
   "outputs": [],
   "source": []
  }
 ],
 "metadata": {
  "kernelspec": {
   "display_name": "Python 3",
   "language": "python",
   "name": "python3"
  },
  "language_info": {
   "codemirror_mode": {
    "name": "ipython",
    "version": 3
   },
   "file_extension": ".py",
   "mimetype": "text/x-python",
   "name": "python",
   "nbconvert_exporter": "python",
   "pygments_lexer": "ipython3",
   "version": "3.7.3"
  }
 },
 "nbformat": 4,
 "nbformat_minor": 2
}
